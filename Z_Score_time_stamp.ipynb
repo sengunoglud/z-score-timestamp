{
  "cells": [
    {
      "cell_type": "code",
      "execution_count": null,
      "metadata": {
        "colab": {
          "base_uri": "https://localhost:8080/"
        },
        "id": "4ycCRQJ7cFkn",
        "outputId": "a01a4067-d930-4bf4-b8c7-2b979c7ccbf1"
      },
      "outputs": [
        {
          "name": "stdout",
          "output_type": "stream",
          "text": [
            "Drive already mounted at /content/drive; to attempt to forcibly remount, call drive.mount(\"/content/drive\", force_remount=True).\n"
          ]
        }
      ],
      "source": [
        "from google.colab import drive\n",
        "drive.mount(\"/content/drive\")"
      ]
    },
    {
      "cell_type": "code",
      "execution_count": null,
      "metadata": {
        "id": "fMpf6e1U0B35"
      },
      "outputs": [],
      "source": [
        "import time\n",
        "import pandas as pd"
      ]
    },
    {
      "cell_type": "code",
      "execution_count": null,
      "metadata": {
        "id": "GFi68mDe0VsH"
      },
      "outputs": [],
      "source": [
        "p1 = pd.read_csv(\"/content/drive/Shareddrives/Project3/p1.csv\", skiprows=3, header=None)\n",
        "p2 = pd.read_csv(\"/content/drive/Shareddrives/Project3/p2.csv\", skiprows=3, header=None)\n",
        "p3 = pd.read_csv(\"/content/drive/Shareddrives/Project3/p3.csv\", skiprows=3, header=None)\n",
        "tags1 = pd.read_csv(\"/content/drive/Shareddrives/Project3/p1_tags.csv\", header=None)\n",
        "tags2 = pd.read_csv(\"/content/drive/Shareddrives/Project3/p2_tags.csv\", header=None)\n",
        "tags3 = pd.read_csv(\"/content/drive/Shareddrives/Project3/p3_tags.csv\", header=None)"
      ]
    },
    {
      "cell_type": "code",
      "execution_count": null,
      "metadata": {
        "id": "eo8HlXUY0wuy"
      },
      "outputs": [],
      "source": [
        "timestamp_start_p1 = tags1.loc[0,0]\n",
        "timestamp_stop_p1 = tags1.loc[1,0]\n",
        "timestamp_start_p2 = tags2.loc[0,0]\n",
        "timestamp_stop_p2 = tags2.loc[1,0]\n",
        "timestamp_start_p3 = tags3.loc[0,0]\n",
        "timestamp_stop_p3 = tags3.loc[1,0]"
      ]
    },
    {
      "cell_type": "code",
      "execution_count": null,
      "metadata": {
        "id": "KYrL-HBg7ClU"
      },
      "outputs": [],
      "source": [
        "timestamp_start_p1 = time.strftime(' %Y-%m-%d %H:%M:%S', time.localtime(timestamp_start_p1))\n",
        "timestamp_stop_p1 = time.strftime(' %Y-%m-%d %H:%M:%S', time.localtime(timestamp_stop_p1))\n",
        "timestamp_start_p2 = time.strftime(' %Y-%m-%d %H:%M:%S', time.localtime(timestamp_start_p2))\n",
        "timestamp_stop_p2 = time.strftime(' %Y-%m-%d %H:%M:%S', time.localtime(timestamp_stop_p2))\n",
        "timestamp_start_p3 = time.strftime(' %Y-%m-%d %H:%M:%S', time.localtime(timestamp_start_p3))\n",
        "timestamp_stop_p3 = time.strftime(' %Y-%m-%d %H:%M:%S', time.localtime(timestamp_stop_p3))"
      ]
    },
    {
      "cell_type": "code",
      "execution_count": null,
      "metadata": {
        "colab": {
          "base_uri": "https://localhost:8080/",
          "height": 35
        },
        "id": "OeSd2tiGgapK",
        "outputId": "c9f7289d-3a0f-4d11-9119-58b096cb57cc"
      },
      "outputs": [
        {
          "data": {
            "application/vnd.google.colaboratory.intrinsic+json": {
              "type": "string"
            },
            "text/plain": [
              "' 2021-05-21 07:53:49'"
            ]
          },
          "execution_count": 69,
          "metadata": {
            "tags": []
          },
          "output_type": "execute_result"
        }
      ],
      "source": [
        "timestamp_start_p1"
      ]
    },
    {
      "cell_type": "code",
      "execution_count": null,
      "metadata": {
        "id": "G1ZCM5j6f2iZ"
      },
      "outputs": [],
      "source": [
        "timestamp_start_p1 = pd.date_range(timestamp_start_p1, periods =1, freq='0.25S')\n",
        "timestamp_stop_p1 = pd.date_range(timestamp_stop_p1, periods =1, freq='0.25S')"
      ]
    },
    {
      "cell_type": "code",
      "execution_count": null,
      "metadata": {
        "colab": {
          "base_uri": "https://localhost:8080/"
        },
        "id": "rJ1qE4FXhdEn",
        "outputId": "9089b968-fec0-46aa-c8fe-16f685a081a0"
      },
      "outputs": [
        {
          "data": {
            "text/plain": [
              "dtype('<M8[ns]')"
            ]
          },
          "execution_count": 71,
          "metadata": {
            "tags": []
          },
          "output_type": "execute_result"
        }
      ],
      "source": [
        "timestamp_start_p1.dtype"
      ]
    },
    {
      "cell_type": "code",
      "execution_count": null,
      "metadata": {
        "id": "GyUwDFZE88yT"
      },
      "outputs": [],
      "source": [
        "def function(data, start, stop):\n",
        "\n",
        "  timestamp = data.loc[0,0]\n",
        "  datetime = time.strftime('%Y-%m-%d %H:%M:%S', time.localtime(timestamp))\n",
        "  data[\"time\"] = pd.date_range(datetime, periods=1037,freq='0.25S')\n",
        "\n",
        "  data_tag = data[start:stop]\n",
        "  data_tag = data_tag[:-3]\n",
        "\n",
        "  baseline=data_tag.iloc[0:80]\n",
        "  print(\"Baseline:\", baseline)\n",
        "  print(\"Mean of baseline:\", baseline.mean())\n",
        "\n",
        "  stimuli=data_tag.iloc[0:280]\n",
        "  print(\"Stimuli:\",stimuli)\n",
        "\n",
        "  difference = (stimuli - baseline).mean()\n",
        "  z_score = (difference - (difference.mean())) / difference.std()\n",
        "  print(\"Z-Score:\",z_score)\n",
        "\n",
        "  z_score_second = z_score.groupby(np.arange(len(z_score))//4).mean()\n",
        "  print(\"Z-score by second:\",z_score_second)\n",
        "\n",
        "  %matplotlib inline\n",
        "  plt.plot(data1, linestyle ='dotted',linewidth = '3.5')\n",
        "\n",
        "  return z_score_second\n"
      ]
    },
    {
      "cell_type": "code",
      "execution_count": null,
      "metadata": {
        "colab": {
          "base_uri": "https://localhost:8080/",
          "height": 419
        },
        "id": "kCq0CzPCbcxr",
        "outputId": "949b0888-fb22-47d0-c198-99b6dfcaad74"
      },
      "outputs": [
        {
          "data": {
            "text/html": [
              "<div>\n",
              "<style scoped>\n",
              "    .dataframe tbody tr th:only-of-type {\n",
              "        vertical-align: middle;\n",
              "    }\n",
              "\n",
              "    .dataframe tbody tr th {\n",
              "        vertical-align: top;\n",
              "    }\n",
              "\n",
              "    .dataframe thead th {\n",
              "        text-align: right;\n",
              "    }\n",
              "</style>\n",
              "<table border=\"1\" class=\"dataframe\">\n",
              "  <thead>\n",
              "    <tr style=\"text-align: right;\">\n",
              "      <th></th>\n",
              "      <th>0</th>\n",
              "      <th>time</th>\n",
              "    </tr>\n",
              "  </thead>\n",
              "  <tbody>\n",
              "    <tr>\n",
              "      <th>0</th>\n",
              "      <td>0.134540</td>\n",
              "      <td>1970-01-01 00:00:00.000</td>\n",
              "    </tr>\n",
              "    <tr>\n",
              "      <th>1</th>\n",
              "      <td>0.162729</td>\n",
              "      <td>1970-01-01 00:00:00.250</td>\n",
              "    </tr>\n",
              "    <tr>\n",
              "      <th>2</th>\n",
              "      <td>0.162729</td>\n",
              "      <td>1970-01-01 00:00:00.500</td>\n",
              "    </tr>\n",
              "    <tr>\n",
              "      <th>3</th>\n",
              "      <td>0.166573</td>\n",
              "      <td>1970-01-01 00:00:00.750</td>\n",
              "    </tr>\n",
              "    <tr>\n",
              "      <th>4</th>\n",
              "      <td>0.164010</td>\n",
              "      <td>1970-01-01 00:00:01.000</td>\n",
              "    </tr>\n",
              "    <tr>\n",
              "      <th>...</th>\n",
              "      <td>...</td>\n",
              "      <td>...</td>\n",
              "    </tr>\n",
              "    <tr>\n",
              "      <th>1032</th>\n",
              "      <td>0.131977</td>\n",
              "      <td>1970-01-01 00:04:18.000</td>\n",
              "    </tr>\n",
              "    <tr>\n",
              "      <th>1033</th>\n",
              "      <td>0.134540</td>\n",
              "      <td>1970-01-01 00:04:18.250</td>\n",
              "    </tr>\n",
              "    <tr>\n",
              "      <th>1034</th>\n",
              "      <td>0.131977</td>\n",
              "      <td>1970-01-01 00:04:18.500</td>\n",
              "    </tr>\n",
              "    <tr>\n",
              "      <th>1035</th>\n",
              "      <td>0.134540</td>\n",
              "      <td>1970-01-01 00:04:18.750</td>\n",
              "    </tr>\n",
              "    <tr>\n",
              "      <th>1036</th>\n",
              "      <td>0.134540</td>\n",
              "      <td>1970-01-01 00:04:19.000</td>\n",
              "    </tr>\n",
              "  </tbody>\n",
              "</table>\n",
              "<p>1037 rows × 2 columns</p>\n",
              "</div>"
            ],
            "text/plain": [
              "             0                    time\n",
              "0     0.134540 1970-01-01 00:00:00.000\n",
              "1     0.162729 1970-01-01 00:00:00.250\n",
              "2     0.162729 1970-01-01 00:00:00.500\n",
              "3     0.166573 1970-01-01 00:00:00.750\n",
              "4     0.164010 1970-01-01 00:00:01.000\n",
              "...        ...                     ...\n",
              "1032  0.131977 1970-01-01 00:04:18.000\n",
              "1033  0.134540 1970-01-01 00:04:18.250\n",
              "1034  0.131977 1970-01-01 00:04:18.500\n",
              "1035  0.134540 1970-01-01 00:04:18.750\n",
              "1036  0.134540 1970-01-01 00:04:19.000\n",
              "\n",
              "[1037 rows x 2 columns]"
            ]
          },
          "execution_count": 51,
          "metadata": {
            "tags": []
          },
          "output_type": "execute_result"
        }
      ],
      "source": [
        "p1"
      ]
    },
    {
      "cell_type": "code",
      "execution_count": null,
      "metadata": {
        "colab": {
          "base_uri": "https://localhost:8080/"
        },
        "id": "FT0oF1flZp_G",
        "outputId": "7626bdbe-4e03-4995-b54a-67689308683a"
      },
      "outputs": [
        {
          "data": {
            "text/plain": [
              "(1037, 2)"
            ]
          },
          "execution_count": 52,
          "metadata": {
            "tags": []
          },
          "output_type": "execute_result"
        }
      ],
      "source": [
        "p1.shape"
      ]
    },
    {
      "cell_type": "code",
      "execution_count": null,
      "metadata": {
        "id": "W-vW-9BPLqvp"
      },
      "outputs": [],
      "source": [
        "function(p1, timestamp_start_p1, timestamp_stop_p1)"
      ]
    }
  ],
  "metadata": {
    "colab": {
      "name": "Z-Score-time-stamp.ipynb",
      "provenance": []
    },
    "kernelspec": {
      "display_name": "Python 3",
      "name": "python3"
    },
    "language_info": {
      "name": "python"
    }
  },
  "nbformat": 4,
  "nbformat_minor": 0
}
